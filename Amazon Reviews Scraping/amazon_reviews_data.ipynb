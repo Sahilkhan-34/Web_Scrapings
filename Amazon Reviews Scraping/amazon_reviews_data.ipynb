{
 "cells": [
  {
   "cell_type": "code",
   "execution_count": 2,
   "metadata": {},
   "outputs": [],
   "source": [
    "import pandas as pd"
   ]
  },
  {
   "cell_type": "code",
   "execution_count": 3,
   "metadata": {},
   "outputs": [
    {
     "name": "stdout",
     "output_type": "stream",
     "text": [
      "No reviews found on page 1\n",
      "No reviews found on page 2\n",
      "No reviews found on page 3\n",
      "No reviews found on page 4\n",
      "No reviews found on page 5\n",
      "[{'author': 'Mallajeet Sonowal', 'rating & title': '5.0 out of 5 stars\\nFirst experience with IOS - its different', 'text': 'I am writing this review after using it for1 month. This is my first apple device. I upgraded from OP7T to this device. My prime requirement was superior battery life and looking for an overall decent good phone. So I was initially inclined to buying OP 11 but ever since OP was acquired by VIVO, I felt that OP has lost its originality and as a result my interest for OP11 was somehow withdrawn.  After one month of usage of IP14+,  I find that in some aspect IOS is superior to android and in some other aspects android is superior to IOS. As a very normal mobile phone user, I’ll try to highlight the difficulties and good aspects of the device I noticed while using it for the last one month:Pros:1. Battery life is outstanding. When I was using single sim, I was having 40-42 hrs. of battery backup with moderate usage ( I don’t play games, moderate usage includes streaming content in Netflix, Hotstar etc. for 2-3 hrs.). When I started using duel sim also, the battery life is easily lasting for more than 36 hrs.2. I absolutely liked the Face ID feature and I really appreciate the security features offered by IOS. Be it for banking app or for any other apps, no unnecessary third party apps are required for protection & privacy of apps. My child can’t install any gaming app without my Faceid and it is such a relief.3. Astounding sound quality. This phone bar delivers amazing sound output. You’ll experience absolute satisfaction while watching content in this phone with such high quality sound output. My wife is using Galaxy S22 Ultra and I find that the sound output of IP14+ is superior to this.4. I read that screen refresh rate is 60Hz, but it hardly mattered to me. I could not notice any distraction due to this in my day to day activities. But I must say that watching content in S22 Ultra is more eye-pleasing but this does not mean that screen quality of IP14+ is any less than the S22 series.5. Duel 12 megapixel camera offers you such incredible picture quality that many flagship android phones with triple/ quadruple camera having fancy megapixels should feel ashamed of. Day or night , you get awesome photos. No unnecessary beautifying of photos , you simply see what you click. If I look bad, the camera will show me just like that. Video quality is also great specially in cinematic mode.6. Lesser battery & lesser ram than most of the android phones out there but performs like a beast non-stop.Cons:1. Android is so easy to use. It gives you the liberty to do as per your own terms. As a very normal user of mobile , simple activities like toggling with SIM data, choosing the sim to call, auto connection of Bluetooth with car (once it is paired), browsing the file manager, copying & pasting any files to & from the mobile device, connecting a SSD / pen drive etc. is such a piece of cake in android phones.  In IOS, calls will only go from the primary sim. You do not get the choice of selecting the sim to call your contacts. You can call a contact from your secondary sim only if you received a call from the caller in the secondary sim. I normally toggle between Jio & Airtel for mobile data. Toggling the mobile data is so damn easy in android phones through drop down menu but in IOS I have to go to settings everytime to select the primary / secondary sim for default data.2. File browsing in IOS is another nightmare for me. In 1 month I started missing the android file browsing utility. I can not copy a file from external source (pendrive / ssd) to iphone.  When connected to PC, I am only allowed to copy camera photos and videos to PC. May be IOS is restricting all these to enhance security of the device which I really appreciate but can’t help forgetting the swiftness of android handling all these shortcomings.3. Can you imagine, the calculator app can not handle any sum involving more than 9 digits.4. As I said camera in this phone is great. But I paid 90 thousand for the phone and for the price paid for I at least deserved a macro lens and 3x optical zoom lens in the camera system. Forget about macro photography & zooming if you are sticking with non-pro versions.Anyways, pro’s & con’s makes a product perfect. Despite all the shortfalls which are bothering me,  I liked this device because in many other important aspects it outperformed other flagship android devices. In the end  I must say, for battery, ram management and security IOS rocks and for ease of use android rocks.'}, {'author': 'Pritam Shetty', 'rating & title': '5.0 out of 5 stars\\nSmooth Transition to iPhone 14 Plus', 'text': \"I recently made the switch from Android to the iPhone 14 Plus, and it has been a remarkably smooth transition. Here are some key points about my experience:1. Seamless Setup: Setting up my new iPhone was a breeze. Apple's migration tool effortlessly transferred all my contacts, photos, and apps from my Android device. It was a stress-free process that ensured I didn't lose any important data.2. Intuitive User Interface: The iOS interface on the iPhone 14 Plus is incredibly user-friendly. Navigating through the device, customizing settings, and finding apps is straightforward, even for someone who was accustomed to Android.3. Performance: The iPhone 14 Plus packs a powerful punch. The device runs smoothly, and apps load quickly. Multitasking is a breeze, thanks to the robust hardware and optimized software.4. Display: The OLED display on the iPhone 14 Plus is stunning. Colors are vibrant, and the screen is sharp and clear. It's a joy to use for watching videos, browsing, and gaming.5. Camera: The camera quality on the iPhone 14 Plus is exceptional. The photos and videos captured are rich in detail and clarity. The advanced camera features and modes provide ample opportunities for creativity.6. App Ecosystem: The App Store offers a vast selection of high-quality apps that enhance the iPhone experience. I found all my favorite Android apps and discovered some excellent iOS exclusives.7. Privacy and Security: Apple's commitment to user privacy and security is evident. Features like App Tracking Transparency and Face ID add an extra layer of protection.8. Battery Life: The battery life on the iPhone 14 Plus is impressive. I can comfortably go through a day of heavy usage without worrying about running out of power.In conclusion, my transition from Android to the iPhone 14 Plus has been a positive one. The device offers a premium experience with a top-notch camera, excellent performance, and an ecosystem that keeps everything well-integrated. If you're considering the switch, I highly recommend it for a seamless and satisfying smartphone experience.\"}, {'author': 'Dwarka Chary', 'rating & title': '4.0 out of 5 stars\\nPlus sized iPhone , not for all', 'text': 'The phone is a standard iPhone blown up to the pro max proportion. While tech reviewers might consider this phone a failure , for those who need a good battery and a large screen will love this.In the us as price difference between this and pro max is 200 , people will scale up and get that. However in India the price difference between this a pro max can get you an iPhone 12/13 itself. So it works best for the price.89999 is expensive but I picked it up in the sale for 71 with some more cash back thrown in. Now the value promise is damn enticing.As it uses the 13pro’s A15 processor and 2 back cameras from the 13pro , it’s no slouch. In the battery department as it’s a shameful 60hz display that it has to power , it lasts long. The lack of pro-motion display on a phone at this price point is a disgrace when even phones at half the price come with super amoled 120hz displaysThat aside , as I use it exclusively for work I am happy with it. I take all my WebEx meetings from here and slack and outlook at refreshed fanatically when I’m on the move. I can read all the documents and not worry about eye strain.I am not the best judge for camera as I use this only to capture moments rather than insta pics etc. but it takes decent photos. Post processing may not be for all.Summarizing , it’s a good phone for a slightly inflated price point.  It does a damn good job in being a phone that lasts long.Update : after using it extensively for 2 weeks i charge it once in about 30-40 hours and this is not an exaggeration. I charge before i go to sleep and it lasts me the whole next day night + till the day after till noon or 2pm. This has been consistent behaviour with about 4-5 hours of screen on time.'}, {'author': 'Gokul', 'rating & title': '5.0 out of 5 stars\\nIt’s my first iPhone experience', 'text': 'It’s my first iphone and i see that it has a verygood battery life, as I’ve used it for  15-16 days and one single charge upto 100% can easily hold till 2complete days, in one charge cycle I’ve watched6eposids of 30mins each and a movie of 2hr25min.Overall batter is really osm, I didn’t expect this from iphone. I usually keep the power between 30% to 80% and this holds for 1 to 1(1/2) in a decent use of continuous screen time about 5 to 6hrs smoothly.Well battery is good..(single battery% stands for 9-10minutes on light usage if rough usage then 7-8min definitely)Now come to it’s performance,Obviously with appleA15 chipset it’s really soo smooth, overall having a 60hz display while all ther brand are running with 120hz display. But still i say it is smooth to a good decent level.If i come to gaming side, no doubt u can go for it, but as its display is 60hz it may get u some change if u are a heavy gamer(I’m don’t play much games😅)Well come to the camera part,Obviously iPhones are verywell known for their camera quality, compared to pro series it has only 12+12 Mp camera setup it doesn’t have 48mp setup as pro. But still it best pics as good as pro.On screen brightness I not impressed with it, It’s not that bright to see under heavy sunlight quite difficult but can be seen but not clear.Well compared to pro, pro can be easily seen under heavy sun easily without any difficulties. Can be seen clearly.On waterproof, no doubt you can swim with it 😅I’ve done it twice and daily I carry it while I’m bathing.Definitely 👍 good.On build quality, screen with ceramic display it’s really soo durable, I’ve placed screen on heavy surfaces without tempered glass and i can’t see any scratches on the screen. But edges are quite disappointing with aluminium frame is quite delicate on third day after buying it slipped from my had on one side of edge and boom it shot with a slight dent on edge.If i talk about Speakers they are really good and easily audible at a heavy traffic noise too. Overall speakers are good 👍Overall i can say it’s worth to spend 80k on this mobile.So you can go for it.'}, {'author': 'Kushal Achchha', 'rating & title': '5.0 out of 5 stars\\nIphone review', 'text': 'Very good quality n safely delivered'}, {'author': 'Tushar Soni', 'rating & title': '5.0 out of 5 stars\\nValue for money', 'text': 'Product is good as it described in its details. Happy to have it in such a low price.'}, {'author': 'Kshitija sontakke', 'rating & title': '5.0 out of 5 stars\\nbest', 'text': 'My first iphone . I loved it. Impressed with the battery life. very smooth to handle. overall superb phone'}, {'author': 'Bhupendra', 'rating & title': '1.0 out of 5 stars\\nCamera and flash light black out', 'text': 'My mobile back camera is balck out it is under warrenty period i want to replace it from company'}, {'author': 'Amazon Customer', 'rating & title': '4.0 out of 5 stars\\nOverall Good', 'text': 'The phone is good the size of the phone for those who want a sleek one is too big and heavy meanwhile the performance of the phone is good except sometime the Face ID takes time to open.'}, {'author': 'Adil khan', 'rating & title': '4.0 out of 5 stars\\nSahi hai', 'text': 'Sahi hai'}, {'author': 'Mallajeet Sonowal', 'rating & title': '5.0 out of 5 stars\\nFirst experience with IOS - its different', 'text': 'I am writing this review after using it for1 month. This is my first apple device. I upgraded from OP7T to this device. My prime requirement was superior battery life and looking for an overall decent good phone. So I was initially inclined to buying OP 11 but ever since OP was acquired by VIVO, I felt that OP has lost its originality and as a result my interest for OP11 was somehow withdrawn.  After one month of usage of IP14+,  I find that in some aspect IOS is superior to android and in some other aspects android is superior to IOS. As a very normal mobile phone user, I’ll try to highlight the difficulties and good aspects of the device I noticed while using it for the last one month:Pros:1. Battery life is outstanding. When I was using single sim, I was having 40-42 hrs. of battery backup with moderate usage ( I don’t play games, moderate usage includes streaming content in Netflix, Hotstar etc. for 2-3 hrs.). When I started using duel sim also, the battery life is easily lasting for more than 36 hrs.2. I absolutely liked the Face ID feature and I really appreciate the security features offered by IOS. Be it for banking app or for any other apps, no unnecessary third party apps are required for protection & privacy of apps. My child can’t install any gaming app without my Faceid and it is such a relief.3. Astounding sound quality. This phone bar delivers amazing sound output. You’ll experience absolute satisfaction while watching content in this phone with such high quality sound output. My wife is using Galaxy S22 Ultra and I find that the sound output of IP14+ is superior to this.4. I read that screen refresh rate is 60Hz, but it hardly mattered to me. I could not notice any distraction due to this in my day to day activities. But I must say that watching content in S22 Ultra is more eye-pleasing but this does not mean that screen quality of IP14+ is any less than the S22 series.5. Duel 12 megapixel camera offers you such incredible picture quality that many flagship android phones with triple/ quadruple camera having fancy megapixels should feel ashamed of. Day or night , you get awesome photos. No unnecessary beautifying of photos , you simply see what you click. If I look bad, the camera will show me just like that. Video quality is also great specially in cinematic mode.6. Lesser battery & lesser ram than most of the android phones out there but performs like a beast non-stop.Cons:1. Android is so easy to use. It gives you the liberty to do as per your own terms. As a very normal user of mobile , simple activities like toggling with SIM data, choosing the sim to call, auto connection of Bluetooth with car (once it is paired), browsing the file manager, copying & pasting any files to & from the mobile device, connecting a SSD / pen drive etc. is such a piece of cake in android phones.  In IOS, calls will only go from the primary sim. You do not get the choice of selecting the sim to call your contacts. You can call a contact from your secondary sim only if you received a call from the caller in the secondary sim. I normally toggle between Jio & Airtel for mobile data. Toggling the mobile data is so damn easy in android phones through drop down menu but in IOS I have to go to settings everytime to select the primary / secondary sim for default data.2. File browsing in IOS is another nightmare for me. In 1 month I started missing the android file browsing utility. I can not copy a file from external source (pendrive / ssd) to iphone.  When connected to PC, I am only allowed to copy camera photos and videos to PC. May be IOS is restricting all these to enhance security of the device which I really appreciate but can’t help forgetting the swiftness of android handling all these shortcomings.3. Can you imagine, the calculator app can not handle any sum involving more than 9 digits.4. As I said camera in this phone is great. But I paid 90 thousand for the phone and for the price paid for I at least deserved a macro lens and 3x optical zoom lens in the camera system. Forget about macro photography & zooming if you are sticking with non-pro versions.Anyways, pro’s & con’s makes a product perfect. Despite all the shortfalls which are bothering me,  I liked this device because in many other important aspects it outperformed other flagship android devices. In the end  I must say, for battery, ram management and security IOS rocks and for ease of use android rocks.'}, {'author': 'Pritam Shetty', 'rating & title': '5.0 out of 5 stars\\nSmooth Transition to iPhone 14 Plus', 'text': \"I recently made the switch from Android to the iPhone 14 Plus, and it has been a remarkably smooth transition. Here are some key points about my experience:1. Seamless Setup: Setting up my new iPhone was a breeze. Apple's migration tool effortlessly transferred all my contacts, photos, and apps from my Android device. It was a stress-free process that ensured I didn't lose any important data.2. Intuitive User Interface: The iOS interface on the iPhone 14 Plus is incredibly user-friendly. Navigating through the device, customizing settings, and finding apps is straightforward, even for someone who was accustomed to Android.3. Performance: The iPhone 14 Plus packs a powerful punch. The device runs smoothly, and apps load quickly. Multitasking is a breeze, thanks to the robust hardware and optimized software.4. Display: The OLED display on the iPhone 14 Plus is stunning. Colors are vibrant, and the screen is sharp and clear. It's a joy to use for watching videos, browsing, and gaming.5. Camera: The camera quality on the iPhone 14 Plus is exceptional. The photos and videos captured are rich in detail and clarity. The advanced camera features and modes provide ample opportunities for creativity.6. App Ecosystem: The App Store offers a vast selection of high-quality apps that enhance the iPhone experience. I found all my favorite Android apps and discovered some excellent iOS exclusives.7. Privacy and Security: Apple's commitment to user privacy and security is evident. Features like App Tracking Transparency and Face ID add an extra layer of protection.8. Battery Life: The battery life on the iPhone 14 Plus is impressive. I can comfortably go through a day of heavy usage without worrying about running out of power.In conclusion, my transition from Android to the iPhone 14 Plus has been a positive one. The device offers a premium experience with a top-notch camera, excellent performance, and an ecosystem that keeps everything well-integrated. If you're considering the switch, I highly recommend it for a seamless and satisfying smartphone experience.\"}, {'author': 'Dwarka Chary', 'rating & title': '4.0 out of 5 stars\\nPlus sized iPhone , not for all', 'text': 'The phone is a standard iPhone blown up to the pro max proportion. While tech reviewers might consider this phone a failure , for those who need a good battery and a large screen will love this.In the us as price difference between this and pro max is 200 , people will scale up and get that. However in India the price difference between this a pro max can get you an iPhone 12/13 itself. So it works best for the price.89999 is expensive but I picked it up in the sale for 71 with some more cash back thrown in. Now the value promise is damn enticing.As it uses the 13pro’s A15 processor and 2 back cameras from the 13pro , it’s no slouch. In the battery department as it’s a shameful 60hz display that it has to power , it lasts long. The lack of pro-motion display on a phone at this price point is a disgrace when even phones at half the price come with super amoled 120hz displaysThat aside , as I use it exclusively for work I am happy with it. I take all my WebEx meetings from here and slack and outlook at refreshed fanatically when I’m on the move. I can read all the documents and not worry about eye strain.I am not the best judge for camera as I use this only to capture moments rather than insta pics etc. but it takes decent photos. Post processing may not be for all.Summarizing , it’s a good phone for a slightly inflated price point.  It does a damn good job in being a phone that lasts long.Update : after using it extensively for 2 weeks i charge it once in about 30-40 hours and this is not an exaggeration. I charge before i go to sleep and it lasts me the whole next day night + till the day after till noon or 2pm. This has been consistent behaviour with about 4-5 hours of screen on time.'}, {'author': 'Gokul', 'rating & title': '5.0 out of 5 stars\\nIt’s my first iPhone experience', 'text': 'It’s my first iphone and i see that it has a verygood battery life, as I’ve used it for  15-16 days and one single charge upto 100% can easily hold till 2complete days, in one charge cycle I’ve watched6eposids of 30mins each and a movie of 2hr25min.Overall batter is really osm, I didn’t expect this from iphone. I usually keep the power between 30% to 80% and this holds for 1 to 1(1/2) in a decent use of continuous screen time about 5 to 6hrs smoothly.Well battery is good..(single battery% stands for 9-10minutes on light usage if rough usage then 7-8min definitely)Now come to it’s performance,Obviously with appleA15 chipset it’s really soo smooth, overall having a 60hz display while all ther brand are running with 120hz display. But still i say it is smooth to a good decent level.If i come to gaming side, no doubt u can go for it, but as its display is 60hz it may get u some change if u are a heavy gamer(I’m don’t play much games😅)Well come to the camera part,Obviously iPhones are verywell known for their camera quality, compared to pro series it has only 12+12 Mp camera setup it doesn’t have 48mp setup as pro. But still it best pics as good as pro.On screen brightness I not impressed with it, It’s not that bright to see under heavy sunlight quite difficult but can be seen but not clear.Well compared to pro, pro can be easily seen under heavy sun easily without any difficulties. Can be seen clearly.On waterproof, no doubt you can swim with it 😅I’ve done it twice and daily I carry it while I’m bathing.Definitely 👍 good.On build quality, screen with ceramic display it’s really soo durable, I’ve placed screen on heavy surfaces without tempered glass and i can’t see any scratches on the screen. But edges are quite disappointing with aluminium frame is quite delicate on third day after buying it slipped from my had on one side of edge and boom it shot with a slight dent on edge.If i talk about Speakers they are really good and easily audible at a heavy traffic noise too. Overall speakers are good 👍Overall i can say it’s worth to spend 80k on this mobile.So you can go for it.'}, {'author': 'Kushal Achchha', 'rating & title': '5.0 out of 5 stars\\nIphone review', 'text': 'Very good quality n safely delivered'}, {'author': 'Tushar Soni', 'rating & title': '5.0 out of 5 stars\\nValue for money', 'text': 'Product is good as it described in its details. Happy to have it in such a low price.'}, {'author': 'Kshitija sontakke', 'rating & title': '5.0 out of 5 stars\\nbest', 'text': 'My first iphone . I loved it. Impressed with the battery life. very smooth to handle. overall superb phone'}, {'author': 'Bhupendra', 'rating & title': '1.0 out of 5 stars\\nCamera and flash light black out', 'text': 'My mobile back camera is balck out it is under warrenty period i want to replace it from company'}, {'author': 'Amazon Customer', 'rating & title': '4.0 out of 5 stars\\nOverall Good', 'text': 'The phone is good the size of the phone for those who want a sleek one is too big and heavy meanwhile the performance of the phone is good except sometime the Face ID takes time to open.'}, {'author': 'Adil khan', 'rating & title': '4.0 out of 5 stars\\nSahi hai', 'text': 'Sahi hai'}, {'author': 'Mallajeet Sonowal', 'rating & title': '5.0 out of 5 stars\\nFirst experience with IOS - its different', 'text': 'I am writing this review after using it for1 month. This is my first apple device. I upgraded from OP7T to this device. My prime requirement was superior battery life and looking for an overall decent good phone. So I was initially inclined to buying OP 11 but ever since OP was acquired by VIVO, I felt that OP has lost its originality and as a result my interest for OP11 was somehow withdrawn.  After one month of usage of IP14+,  I find that in some aspect IOS is superior to android and in some other aspects android is superior to IOS. As a very normal mobile phone user, I’ll try to highlight the difficulties and good aspects of the device I noticed while using it for the last one month:Pros:1. Battery life is outstanding. When I was using single sim, I was having 40-42 hrs. of battery backup with moderate usage ( I don’t play games, moderate usage includes streaming content in Netflix, Hotstar etc. for 2-3 hrs.). When I started using duel sim also, the battery life is easily lasting for more than 36 hrs.2. I absolutely liked the Face ID feature and I really appreciate the security features offered by IOS. Be it for banking app or for any other apps, no unnecessary third party apps are required for protection & privacy of apps. My child can’t install any gaming app without my Faceid and it is such a relief.3. Astounding sound quality. This phone bar delivers amazing sound output. You’ll experience absolute satisfaction while watching content in this phone with such high quality sound output. My wife is using Galaxy S22 Ultra and I find that the sound output of IP14+ is superior to this.4. I read that screen refresh rate is 60Hz, but it hardly mattered to me. I could not notice any distraction due to this in my day to day activities. But I must say that watching content in S22 Ultra is more eye-pleasing but this does not mean that screen quality of IP14+ is any less than the S22 series.5. Duel 12 megapixel camera offers you such incredible picture quality that many flagship android phones with triple/ quadruple camera having fancy megapixels should feel ashamed of. Day or night , you get awesome photos. No unnecessary beautifying of photos , you simply see what you click. If I look bad, the camera will show me just like that. Video quality is also great specially in cinematic mode.6. Lesser battery & lesser ram than most of the android phones out there but performs like a beast non-stop.Cons:1. Android is so easy to use. It gives you the liberty to do as per your own terms. As a very normal user of mobile , simple activities like toggling with SIM data, choosing the sim to call, auto connection of Bluetooth with car (once it is paired), browsing the file manager, copying & pasting any files to & from the mobile device, connecting a SSD / pen drive etc. is such a piece of cake in android phones.  In IOS, calls will only go from the primary sim. You do not get the choice of selecting the sim to call your contacts. You can call a contact from your secondary sim only if you received a call from the caller in the secondary sim. I normally toggle between Jio & Airtel for mobile data. Toggling the mobile data is so damn easy in android phones through drop down menu but in IOS I have to go to settings everytime to select the primary / secondary sim for default data.2. File browsing in IOS is another nightmare for me. In 1 month I started missing the android file browsing utility. I can not copy a file from external source (pendrive / ssd) to iphone.  When connected to PC, I am only allowed to copy camera photos and videos to PC. May be IOS is restricting all these to enhance security of the device which I really appreciate but can’t help forgetting the swiftness of android handling all these shortcomings.3. Can you imagine, the calculator app can not handle any sum involving more than 9 digits.4. As I said camera in this phone is great. But I paid 90 thousand for the phone and for the price paid for I at least deserved a macro lens and 3x optical zoom lens in the camera system. Forget about macro photography & zooming if you are sticking with non-pro versions.Anyways, pro’s & con’s makes a product perfect. Despite all the shortfalls which are bothering me,  I liked this device because in many other important aspects it outperformed other flagship android devices. In the end  I must say, for battery, ram management and security IOS rocks and for ease of use android rocks.'}, {'author': 'Pritam Shetty', 'rating & title': '5.0 out of 5 stars\\nSmooth Transition to iPhone 14 Plus', 'text': \"I recently made the switch from Android to the iPhone 14 Plus, and it has been a remarkably smooth transition. Here are some key points about my experience:1. Seamless Setup: Setting up my new iPhone was a breeze. Apple's migration tool effortlessly transferred all my contacts, photos, and apps from my Android device. It was a stress-free process that ensured I didn't lose any important data.2. Intuitive User Interface: The iOS interface on the iPhone 14 Plus is incredibly user-friendly. Navigating through the device, customizing settings, and finding apps is straightforward, even for someone who was accustomed to Android.3. Performance: The iPhone 14 Plus packs a powerful punch. The device runs smoothly, and apps load quickly. Multitasking is a breeze, thanks to the robust hardware and optimized software.4. Display: The OLED display on the iPhone 14 Plus is stunning. Colors are vibrant, and the screen is sharp and clear. It's a joy to use for watching videos, browsing, and gaming.5. Camera: The camera quality on the iPhone 14 Plus is exceptional. The photos and videos captured are rich in detail and clarity. The advanced camera features and modes provide ample opportunities for creativity.6. App Ecosystem: The App Store offers a vast selection of high-quality apps that enhance the iPhone experience. I found all my favorite Android apps and discovered some excellent iOS exclusives.7. Privacy and Security: Apple's commitment to user privacy and security is evident. Features like App Tracking Transparency and Face ID add an extra layer of protection.8. Battery Life: The battery life on the iPhone 14 Plus is impressive. I can comfortably go through a day of heavy usage without worrying about running out of power.In conclusion, my transition from Android to the iPhone 14 Plus has been a positive one. The device offers a premium experience with a top-notch camera, excellent performance, and an ecosystem that keeps everything well-integrated. If you're considering the switch, I highly recommend it for a seamless and satisfying smartphone experience.\"}, {'author': 'Dwarka Chary', 'rating & title': '4.0 out of 5 stars\\nPlus sized iPhone , not for all', 'text': 'The phone is a standard iPhone blown up to the pro max proportion. While tech reviewers might consider this phone a failure , for those who need a good battery and a large screen will love this.In the us as price difference between this and pro max is 200 , people will scale up and get that. However in India the price difference between this a pro max can get you an iPhone 12/13 itself. So it works best for the price.89999 is expensive but I picked it up in the sale for 71 with some more cash back thrown in. Now the value promise is damn enticing.As it uses the 13pro’s A15 processor and 2 back cameras from the 13pro , it’s no slouch. In the battery department as it’s a shameful 60hz display that it has to power , it lasts long. The lack of pro-motion display on a phone at this price point is a disgrace when even phones at half the price come with super amoled 120hz displaysThat aside , as I use it exclusively for work I am happy with it. I take all my WebEx meetings from here and slack and outlook at refreshed fanatically when I’m on the move. I can read all the documents and not worry about eye strain.I am not the best judge for camera as I use this only to capture moments rather than insta pics etc. but it takes decent photos. Post processing may not be for all.Summarizing , it’s a good phone for a slightly inflated price point.  It does a damn good job in being a phone that lasts long.Update : after using it extensively for 2 weeks i charge it once in about 30-40 hours and this is not an exaggeration. I charge before i go to sleep and it lasts me the whole next day night + till the day after till noon or 2pm. This has been consistent behaviour with about 4-5 hours of screen on time.'}, {'author': 'Gokul', 'rating & title': '5.0 out of 5 stars\\nIt’s my first iPhone experience', 'text': 'It’s my first iphone and i see that it has a verygood battery life, as I’ve used it for  15-16 days and one single charge upto 100% can easily hold till 2complete days, in one charge cycle I’ve watched6eposids of 30mins each and a movie of 2hr25min.Overall batter is really osm, I didn’t expect this from iphone. I usually keep the power between 30% to 80% and this holds for 1 to 1(1/2) in a decent use of continuous screen time about 5 to 6hrs smoothly.Well battery is good..(single battery% stands for 9-10minutes on light usage if rough usage then 7-8min definitely)Now come to it’s performance,Obviously with appleA15 chipset it’s really soo smooth, overall having a 60hz display while all ther brand are running with 120hz display. But still i say it is smooth to a good decent level.If i come to gaming side, no doubt u can go for it, but as its display is 60hz it may get u some change if u are a heavy gamer(I’m don’t play much games😅)Well come to the camera part,Obviously iPhones are verywell known for their camera quality, compared to pro series it has only 12+12 Mp camera setup it doesn’t have 48mp setup as pro. But still it best pics as good as pro.On screen brightness I not impressed with it, It’s not that bright to see under heavy sunlight quite difficult but can be seen but not clear.Well compared to pro, pro can be easily seen under heavy sun easily without any difficulties. Can be seen clearly.On waterproof, no doubt you can swim with it 😅I’ve done it twice and daily I carry it while I’m bathing.Definitely 👍 good.On build quality, screen with ceramic display it’s really soo durable, I’ve placed screen on heavy surfaces without tempered glass and i can’t see any scratches on the screen. But edges are quite disappointing with aluminium frame is quite delicate on third day after buying it slipped from my had on one side of edge and boom it shot with a slight dent on edge.If i talk about Speakers they are really good and easily audible at a heavy traffic noise too. Overall speakers are good 👍Overall i can say it’s worth to spend 80k on this mobile.So you can go for it.'}, {'author': 'Kushal Achchha', 'rating & title': '5.0 out of 5 stars\\nIphone review', 'text': 'Very good quality n safely delivered'}, {'author': 'Tushar Soni', 'rating & title': '5.0 out of 5 stars\\nValue for money', 'text': 'Product is good as it described in its details. Happy to have it in such a low price.'}, {'author': 'Kshitija sontakke', 'rating & title': '5.0 out of 5 stars\\nbest', 'text': 'My first iphone . I loved it. Impressed with the battery life. very smooth to handle. overall superb phone'}, {'author': 'Bhupendra', 'rating & title': '1.0 out of 5 stars\\nCamera and flash light black out', 'text': 'My mobile back camera is balck out it is under warrenty period i want to replace it from company'}, {'author': 'Amazon Customer', 'rating & title': '4.0 out of 5 stars\\nOverall Good', 'text': 'The phone is good the size of the phone for those who want a sleek one is too big and heavy meanwhile the performance of the phone is good except sometime the Face ID takes time to open.'}, {'author': 'Adil khan', 'rating & title': '4.0 out of 5 stars\\nSahi hai', 'text': 'Sahi hai'}, {'author': 'Mallajeet Sonowal', 'rating & title': '5.0 out of 5 stars\\nFirst experience with IOS - its different', 'text': 'I am writing this review after using it for1 month. This is my first apple device. I upgraded from OP7T to this device. My prime requirement was superior battery life and looking for an overall decent good phone. So I was initially inclined to buying OP 11 but ever since OP was acquired by VIVO, I felt that OP has lost its originality and as a result my interest for OP11 was somehow withdrawn.  After one month of usage of IP14+,  I find that in some aspect IOS is superior to android and in some other aspects android is superior to IOS. As a very normal mobile phone user, I’ll try to highlight the difficulties and good aspects of the device I noticed while using it for the last one month:Pros:1. Battery life is outstanding. When I was using single sim, I was having 40-42 hrs. of battery backup with moderate usage ( I don’t play games, moderate usage includes streaming content in Netflix, Hotstar etc. for 2-3 hrs.). When I started using duel sim also, the battery life is easily lasting for more than 36 hrs.2. I absolutely liked the Face ID feature and I really appreciate the security features offered by IOS. Be it for banking app or for any other apps, no unnecessary third party apps are required for protection & privacy of apps. My child can’t install any gaming app without my Faceid and it is such a relief.3. Astounding sound quality. This phone bar delivers amazing sound output. You’ll experience absolute satisfaction while watching content in this phone with such high quality sound output. My wife is using Galaxy S22 Ultra and I find that the sound output of IP14+ is superior to this.4. I read that screen refresh rate is 60Hz, but it hardly mattered to me. I could not notice any distraction due to this in my day to day activities. But I must say that watching content in S22 Ultra is more eye-pleasing but this does not mean that screen quality of IP14+ is any less than the S22 series.5. Duel 12 megapixel camera offers you such incredible picture quality that many flagship android phones with triple/ quadruple camera having fancy megapixels should feel ashamed of. Day or night , you get awesome photos. No unnecessary beautifying of photos , you simply see what you click. If I look bad, the camera will show me just like that. Video quality is also great specially in cinematic mode.6. Lesser battery & lesser ram than most of the android phones out there but performs like a beast non-stop.Cons:1. Android is so easy to use. It gives you the liberty to do as per your own terms. As a very normal user of mobile , simple activities like toggling with SIM data, choosing the sim to call, auto connection of Bluetooth with car (once it is paired), browsing the file manager, copying & pasting any files to & from the mobile device, connecting a SSD / pen drive etc. is such a piece of cake in android phones.  In IOS, calls will only go from the primary sim. You do not get the choice of selecting the sim to call your contacts. You can call a contact from your secondary sim only if you received a call from the caller in the secondary sim. I normally toggle between Jio & Airtel for mobile data. Toggling the mobile data is so damn easy in android phones through drop down menu but in IOS I have to go to settings everytime to select the primary / secondary sim for default data.2. File browsing in IOS is another nightmare for me. In 1 month I started missing the android file browsing utility. I can not copy a file from external source (pendrive / ssd) to iphone.  When connected to PC, I am only allowed to copy camera photos and videos to PC. May be IOS is restricting all these to enhance security of the device which I really appreciate but can’t help forgetting the swiftness of android handling all these shortcomings.3. Can you imagine, the calculator app can not handle any sum involving more than 9 digits.4. As I said camera in this phone is great. But I paid 90 thousand for the phone and for the price paid for I at least deserved a macro lens and 3x optical zoom lens in the camera system. Forget about macro photography & zooming if you are sticking with non-pro versions.Anyways, pro’s & con’s makes a product perfect. Despite all the shortfalls which are bothering me,  I liked this device because in many other important aspects it outperformed other flagship android devices. In the end  I must say, for battery, ram management and security IOS rocks and for ease of use android rocks.'}, {'author': 'Pritam Shetty', 'rating & title': '5.0 out of 5 stars\\nSmooth Transition to iPhone 14 Plus', 'text': \"I recently made the switch from Android to the iPhone 14 Plus, and it has been a remarkably smooth transition. Here are some key points about my experience:1. Seamless Setup: Setting up my new iPhone was a breeze. Apple's migration tool effortlessly transferred all my contacts, photos, and apps from my Android device. It was a stress-free process that ensured I didn't lose any important data.2. Intuitive User Interface: The iOS interface on the iPhone 14 Plus is incredibly user-friendly. Navigating through the device, customizing settings, and finding apps is straightforward, even for someone who was accustomed to Android.3. Performance: The iPhone 14 Plus packs a powerful punch. The device runs smoothly, and apps load quickly. Multitasking is a breeze, thanks to the robust hardware and optimized software.4. Display: The OLED display on the iPhone 14 Plus is stunning. Colors are vibrant, and the screen is sharp and clear. It's a joy to use for watching videos, browsing, and gaming.5. Camera: The camera quality on the iPhone 14 Plus is exceptional. The photos and videos captured are rich in detail and clarity. The advanced camera features and modes provide ample opportunities for creativity.6. App Ecosystem: The App Store offers a vast selection of high-quality apps that enhance the iPhone experience. I found all my favorite Android apps and discovered some excellent iOS exclusives.7. Privacy and Security: Apple's commitment to user privacy and security is evident. Features like App Tracking Transparency and Face ID add an extra layer of protection.8. Battery Life: The battery life on the iPhone 14 Plus is impressive. I can comfortably go through a day of heavy usage without worrying about running out of power.In conclusion, my transition from Android to the iPhone 14 Plus has been a positive one. The device offers a premium experience with a top-notch camera, excellent performance, and an ecosystem that keeps everything well-integrated. If you're considering the switch, I highly recommend it for a seamless and satisfying smartphone experience.\"}, {'author': 'Dwarka Chary', 'rating & title': '4.0 out of 5 stars\\nPlus sized iPhone , not for all', 'text': 'The phone is a standard iPhone blown up to the pro max proportion. While tech reviewers might consider this phone a failure , for those who need a good battery and a large screen will love this.In the us as price difference between this and pro max is 200 , people will scale up and get that. However in India the price difference between this a pro max can get you an iPhone 12/13 itself. So it works best for the price.89999 is expensive but I picked it up in the sale for 71 with some more cash back thrown in. Now the value promise is damn enticing.As it uses the 13pro’s A15 processor and 2 back cameras from the 13pro , it’s no slouch. In the battery department as it’s a shameful 60hz display that it has to power , it lasts long. The lack of pro-motion display on a phone at this price point is a disgrace when even phones at half the price come with super amoled 120hz displaysThat aside , as I use it exclusively for work I am happy with it. I take all my WebEx meetings from here and slack and outlook at refreshed fanatically when I’m on the move. I can read all the documents and not worry about eye strain.I am not the best judge for camera as I use this only to capture moments rather than insta pics etc. but it takes decent photos. Post processing may not be for all.Summarizing , it’s a good phone for a slightly inflated price point.  It does a damn good job in being a phone that lasts long.Update : after using it extensively for 2 weeks i charge it once in about 30-40 hours and this is not an exaggeration. I charge before i go to sleep and it lasts me the whole next day night + till the day after till noon or 2pm. This has been consistent behaviour with about 4-5 hours of screen on time.'}, {'author': 'Gokul', 'rating & title': '5.0 out of 5 stars\\nIt’s my first iPhone experience', 'text': 'It’s my first iphone and i see that it has a verygood battery life, as I’ve used it for  15-16 days and one single charge upto 100% can easily hold till 2complete days, in one charge cycle I’ve watched6eposids of 30mins each and a movie of 2hr25min.Overall batter is really osm, I didn’t expect this from iphone. I usually keep the power between 30% to 80% and this holds for 1 to 1(1/2) in a decent use of continuous screen time about 5 to 6hrs smoothly.Well battery is good..(single battery% stands for 9-10minutes on light usage if rough usage then 7-8min definitely)Now come to it’s performance,Obviously with appleA15 chipset it’s really soo smooth, overall having a 60hz display while all ther brand are running with 120hz display. But still i say it is smooth to a good decent level.If i come to gaming side, no doubt u can go for it, but as its display is 60hz it may get u some change if u are a heavy gamer(I’m don’t play much games😅)Well come to the camera part,Obviously iPhones are verywell known for their camera quality, compared to pro series it has only 12+12 Mp camera setup it doesn’t have 48mp setup as pro. But still it best pics as good as pro.On screen brightness I not impressed with it, It’s not that bright to see under heavy sunlight quite difficult but can be seen but not clear.Well compared to pro, pro can be easily seen under heavy sun easily without any difficulties. Can be seen clearly.On waterproof, no doubt you can swim with it 😅I’ve done it twice and daily I carry it while I’m bathing.Definitely 👍 good.On build quality, screen with ceramic display it’s really soo durable, I’ve placed screen on heavy surfaces without tempered glass and i can’t see any scratches on the screen. But edges are quite disappointing with aluminium frame is quite delicate on third day after buying it slipped from my had on one side of edge and boom it shot with a slight dent on edge.If i talk about Speakers they are really good and easily audible at a heavy traffic noise too. Overall speakers are good 👍Overall i can say it’s worth to spend 80k on this mobile.So you can go for it.'}, {'author': 'Kushal Achchha', 'rating & title': '5.0 out of 5 stars\\nIphone review', 'text': 'Very good quality n safely delivered'}, {'author': 'Tushar Soni', 'rating & title': '5.0 out of 5 stars\\nValue for money', 'text': 'Product is good as it described in its details. Happy to have it in such a low price.'}, {'author': 'Kshitija sontakke', 'rating & title': '5.0 out of 5 stars\\nbest', 'text': 'My first iphone . I loved it. Impressed with the battery life. very smooth to handle. overall superb phone'}, {'author': 'Bhupendra', 'rating & title': '1.0 out of 5 stars\\nCamera and flash light black out', 'text': 'My mobile back camera is balck out it is under warrenty period i want to replace it from company'}, {'author': 'Amazon Customer', 'rating & title': '4.0 out of 5 stars\\nOverall Good', 'text': 'The phone is good the size of the phone for those who want a sleek one is too big and heavy meanwhile the performance of the phone is good except sometime the Face ID takes time to open.'}, {'author': 'Adil khan', 'rating & title': '4.0 out of 5 stars\\nSahi hai', 'text': 'Sahi hai'}, {'author': 'Mallajeet Sonowal', 'rating & title': '5.0 out of 5 stars\\nFirst experience with IOS - its different', 'text': 'I am writing this review after using it for1 month. This is my first apple device. I upgraded from OP7T to this device. My prime requirement was superior battery life and looking for an overall decent good phone. So I was initially inclined to buying OP 11 but ever since OP was acquired by VIVO, I felt that OP has lost its originality and as a result my interest for OP11 was somehow withdrawn.  After one month of usage of IP14+,  I find that in some aspect IOS is superior to android and in some other aspects android is superior to IOS. As a very normal mobile phone user, I’ll try to highlight the difficulties and good aspects of the device I noticed while using it for the last one month:Pros:1. Battery life is outstanding. When I was using single sim, I was having 40-42 hrs. of battery backup with moderate usage ( I don’t play games, moderate usage includes streaming content in Netflix, Hotstar etc. for 2-3 hrs.). When I started using duel sim also, the battery life is easily lasting for more than 36 hrs.2. I absolutely liked the Face ID feature and I really appreciate the security features offered by IOS. Be it for banking app or for any other apps, no unnecessary third party apps are required for protection & privacy of apps. My child can’t install any gaming app without my Faceid and it is such a relief.3. Astounding sound quality. This phone bar delivers amazing sound output. You’ll experience absolute satisfaction while watching content in this phone with such high quality sound output. My wife is using Galaxy S22 Ultra and I find that the sound output of IP14+ is superior to this.4. I read that screen refresh rate is 60Hz, but it hardly mattered to me. I could not notice any distraction due to this in my day to day activities. But I must say that watching content in S22 Ultra is more eye-pleasing but this does not mean that screen quality of IP14+ is any less than the S22 series.5. Duel 12 megapixel camera offers you such incredible picture quality that many flagship android phones with triple/ quadruple camera having fancy megapixels should feel ashamed of. Day or night , you get awesome photos. No unnecessary beautifying of photos , you simply see what you click. If I look bad, the camera will show me just like that. Video quality is also great specially in cinematic mode.6. Lesser battery & lesser ram than most of the android phones out there but performs like a beast non-stop.Cons:1. Android is so easy to use. It gives you the liberty to do as per your own terms. As a very normal user of mobile , simple activities like toggling with SIM data, choosing the sim to call, auto connection of Bluetooth with car (once it is paired), browsing the file manager, copying & pasting any files to & from the mobile device, connecting a SSD / pen drive etc. is such a piece of cake in android phones.  In IOS, calls will only go from the primary sim. You do not get the choice of selecting the sim to call your contacts. You can call a contact from your secondary sim only if you received a call from the caller in the secondary sim. I normally toggle between Jio & Airtel for mobile data. Toggling the mobile data is so damn easy in android phones through drop down menu but in IOS I have to go to settings everytime to select the primary / secondary sim for default data.2. File browsing in IOS is another nightmare for me. In 1 month I started missing the android file browsing utility. I can not copy a file from external source (pendrive / ssd) to iphone.  When connected to PC, I am only allowed to copy camera photos and videos to PC. May be IOS is restricting all these to enhance security of the device which I really appreciate but can’t help forgetting the swiftness of android handling all these shortcomings.3. Can you imagine, the calculator app can not handle any sum involving more than 9 digits.4. As I said camera in this phone is great. But I paid 90 thousand for the phone and for the price paid for I at least deserved a macro lens and 3x optical zoom lens in the camera system. Forget about macro photography & zooming if you are sticking with non-pro versions.Anyways, pro’s & con’s makes a product perfect. Despite all the shortfalls which are bothering me,  I liked this device because in many other important aspects it outperformed other flagship android devices. In the end  I must say, for battery, ram management and security IOS rocks and for ease of use android rocks.'}, {'author': 'Pritam Shetty', 'rating & title': '5.0 out of 5 stars\\nSmooth Transition to iPhone 14 Plus', 'text': \"I recently made the switch from Android to the iPhone 14 Plus, and it has been a remarkably smooth transition. Here are some key points about my experience:1. Seamless Setup: Setting up my new iPhone was a breeze. Apple's migration tool effortlessly transferred all my contacts, photos, and apps from my Android device. It was a stress-free process that ensured I didn't lose any important data.2. Intuitive User Interface: The iOS interface on the iPhone 14 Plus is incredibly user-friendly. Navigating through the device, customizing settings, and finding apps is straightforward, even for someone who was accustomed to Android.3. Performance: The iPhone 14 Plus packs a powerful punch. The device runs smoothly, and apps load quickly. Multitasking is a breeze, thanks to the robust hardware and optimized software.4. Display: The OLED display on the iPhone 14 Plus is stunning. Colors are vibrant, and the screen is sharp and clear. It's a joy to use for watching videos, browsing, and gaming.5. Camera: The camera quality on the iPhone 14 Plus is exceptional. The photos and videos captured are rich in detail and clarity. The advanced camera features and modes provide ample opportunities for creativity.6. App Ecosystem: The App Store offers a vast selection of high-quality apps that enhance the iPhone experience. I found all my favorite Android apps and discovered some excellent iOS exclusives.7. Privacy and Security: Apple's commitment to user privacy and security is evident. Features like App Tracking Transparency and Face ID add an extra layer of protection.8. Battery Life: The battery life on the iPhone 14 Plus is impressive. I can comfortably go through a day of heavy usage without worrying about running out of power.In conclusion, my transition from Android to the iPhone 14 Plus has been a positive one. The device offers a premium experience with a top-notch camera, excellent performance, and an ecosystem that keeps everything well-integrated. If you're considering the switch, I highly recommend it for a seamless and satisfying smartphone experience.\"}, {'author': 'Dwarka Chary', 'rating & title': '4.0 out of 5 stars\\nPlus sized iPhone , not for all', 'text': 'The phone is a standard iPhone blown up to the pro max proportion. While tech reviewers might consider this phone a failure , for those who need a good battery and a large screen will love this.In the us as price difference between this and pro max is 200 , people will scale up and get that. However in India the price difference between this a pro max can get you an iPhone 12/13 itself. So it works best for the price.89999 is expensive but I picked it up in the sale for 71 with some more cash back thrown in. Now the value promise is damn enticing.As it uses the 13pro’s A15 processor and 2 back cameras from the 13pro , it’s no slouch. In the battery department as it’s a shameful 60hz display that it has to power , it lasts long. The lack of pro-motion display on a phone at this price point is a disgrace when even phones at half the price come with super amoled 120hz displaysThat aside , as I use it exclusively for work I am happy with it. I take all my WebEx meetings from here and slack and outlook at refreshed fanatically when I’m on the move. I can read all the documents and not worry about eye strain.I am not the best judge for camera as I use this only to capture moments rather than insta pics etc. but it takes decent photos. Post processing may not be for all.Summarizing , it’s a good phone for a slightly inflated price point.  It does a damn good job in being a phone that lasts long.Update : after using it extensively for 2 weeks i charge it once in about 30-40 hours and this is not an exaggeration. I charge before i go to sleep and it lasts me the whole next day night + till the day after till noon or 2pm. This has been consistent behaviour with about 4-5 hours of screen on time.'}, {'author': 'Gokul', 'rating & title': '5.0 out of 5 stars\\nIt’s my first iPhone experience', 'text': 'It’s my first iphone and i see that it has a verygood battery life, as I’ve used it for  15-16 days and one single charge upto 100% can easily hold till 2complete days, in one charge cycle I’ve watched6eposids of 30mins each and a movie of 2hr25min.Overall batter is really osm, I didn’t expect this from iphone. I usually keep the power between 30% to 80% and this holds for 1 to 1(1/2) in a decent use of continuous screen time about 5 to 6hrs smoothly.Well battery is good..(single battery% stands for 9-10minutes on light usage if rough usage then 7-8min definitely)Now come to it’s performance,Obviously with appleA15 chipset it’s really soo smooth, overall having a 60hz display while all ther brand are running with 120hz display. But still i say it is smooth to a good decent level.If i come to gaming side, no doubt u can go for it, but as its display is 60hz it may get u some change if u are a heavy gamer(I’m don’t play much games😅)Well come to the camera part,Obviously iPhones are verywell known for their camera quality, compared to pro series it has only 12+12 Mp camera setup it doesn’t have 48mp setup as pro. But still it best pics as good as pro.On screen brightness I not impressed with it, It’s not that bright to see under heavy sunlight quite difficult but can be seen but not clear.Well compared to pro, pro can be easily seen under heavy sun easily without any difficulties. Can be seen clearly.On waterproof, no doubt you can swim with it 😅I’ve done it twice and daily I carry it while I’m bathing.Definitely 👍 good.On build quality, screen with ceramic display it’s really soo durable, I’ve placed screen on heavy surfaces without tempered glass and i can’t see any scratches on the screen. But edges are quite disappointing with aluminium frame is quite delicate on third day after buying it slipped from my had on one side of edge and boom it shot with a slight dent on edge.If i talk about Speakers they are really good and easily audible at a heavy traffic noise too. Overall speakers are good 👍Overall i can say it’s worth to spend 80k on this mobile.So you can go for it.'}, {'author': 'Kushal Achchha', 'rating & title': '5.0 out of 5 stars\\nIphone review', 'text': 'Very good quality n safely delivered'}, {'author': 'Tushar Soni', 'rating & title': '5.0 out of 5 stars\\nValue for money', 'text': 'Product is good as it described in its details. Happy to have it in such a low price.'}, {'author': 'Kshitija sontakke', 'rating & title': '5.0 out of 5 stars\\nbest', 'text': 'My first iphone . I loved it. Impressed with the battery life. very smooth to handle. overall superb phone'}, {'author': 'Bhupendra', 'rating & title': '1.0 out of 5 stars\\nCamera and flash light black out', 'text': 'My mobile back camera is balck out it is under warrenty period i want to replace it from company'}, {'author': 'Amazon Customer', 'rating & title': '4.0 out of 5 stars\\nOverall Good', 'text': 'The phone is good the size of the phone for those who want a sleek one is too big and heavy meanwhile the performance of the phone is good except sometime the Face ID takes time to open.'}, {'author': 'Adil khan', 'rating & title': '4.0 out of 5 stars\\nSahi hai', 'text': 'Sahi hai'}]\n"
     ]
    }
   ],
   "source": [
    "import requests\n",
    "from bs4 import BeautifulSoup\n",
    "\n",
    "def scrape_amazon_reviews(url, max_pages=5):\n",
    "    \"\"\"Scrapes reviews from an Amazon product page up to a specified limit.\n",
    "\n",
    "    Args:\n",
    "        url (str): The URL of the Amazon product page.\n",
    "        max_pages (int, optional): The maximum number of review pages to scrape. Defaults to 2.\n",
    "\n",
    "    Returns:\n",
    "        list: A list of dictionaries, where each dictionary contains information about a review.\n",
    "    \"\"\"\n",
    "\n",
    "    reviews = []\n",
    "    headers = {'User-Agent': 'Mozilla/5.0'}  # Simulate a browser to avoid detection\n",
    "\n",
    "    for page in range(1, max_pages + 1):\n",
    "        page_url = f\"{url}&pageNumber={page}\"\n",
    "        # print(page_url)\n",
    "        response = requests.get(page_url, headers=headers)\n",
    "\n",
    "        if response.status_code == 200:\n",
    "            soup = BeautifulSoup(response.content, 'html.parser')\n",
    "            review_elements = soup.find_all('div', {'data-hook': 'review'})\n",
    "\n",
    "            for review in review_elements:\n",
    "                review_data = {}\n",
    "                # Extract review content based on Amazon's HTML structure (replace placeholders with actual selectors)\n",
    "                review_data['author'] = review.find('span', {'class': \"a-profile-name\"}).text.strip()  # Replace with appropriate selector\n",
    "                review_data['rating & title'] = review.find('a', {'data-hook': 'review-title'}).text.strip()  # Replace with appropriate selector\n",
    "                # print(review_data['author'])\n",
    "                # print(review_data['rating & title'])\n",
    "                review_data['text'] = review.find('span', {'data-hook': 'review-body'}).text.strip()  # Replace with appropriate selector\n",
    "                # print(review_data['text'])\n",
    "                # ... Extract other relevant data as needed\n",
    "\n",
    "                reviews.append(review_data)\n",
    "            else:\n",
    "                print(f\"No reviews found on page {page}\")\n",
    "        else:\n",
    "            print(f\"Error: Request failed with status code {response.status_code}\")\n",
    "\n",
    "    return reviews\n",
    "\n",
    "# Example usage (replace with a valid product URL)\n",
    "product_url = \"https://www.amazon.in/Apple-iPhone-Plus-256GB-Blue/product-reviews/B0BDJQHJZZ/ref=cm_cr_getr_d_paging_btm_next_2?ie=UTF8&reviewerType=all_reviews&pageNumber=\"\n",
    "scraped_reviews = scrape_amazon_reviews(product_url)\n",
    "\n",
    "# Process or store the scraped reviews responsibly (e.g., avoid overwhelming Amazon's servers)\n",
    "print(scraped_reviews)"
   ]
  },
  {
   "cell_type": "code",
   "execution_count": 4,
   "metadata": {},
   "outputs": [],
   "source": [
    "df = pd.DataFrame(scraped_reviews)"
   ]
  },
  {
   "cell_type": "code",
   "execution_count": 5,
   "metadata": {},
   "outputs": [],
   "source": [
    "df.to_csv(\"review_data.csv\",index=False)"
   ]
  },
  {
   "cell_type": "code",
   "execution_count": 6,
   "metadata": {},
   "outputs": [],
   "source": [
    "df = pd.read_csv('review_data.csv')"
   ]
  },
  {
   "cell_type": "code",
   "execution_count": 7,
   "metadata": {},
   "outputs": [
    {
     "data": {
      "text/html": [
       "<div>\n",
       "<style scoped>\n",
       "    .dataframe tbody tr th:only-of-type {\n",
       "        vertical-align: middle;\n",
       "    }\n",
       "\n",
       "    .dataframe tbody tr th {\n",
       "        vertical-align: top;\n",
       "    }\n",
       "\n",
       "    .dataframe thead th {\n",
       "        text-align: right;\n",
       "    }\n",
       "</style>\n",
       "<table border=\"1\" class=\"dataframe\">\n",
       "  <thead>\n",
       "    <tr style=\"text-align: right;\">\n",
       "      <th></th>\n",
       "      <th>author</th>\n",
       "      <th>rating &amp; title</th>\n",
       "      <th>text</th>\n",
       "    </tr>\n",
       "  </thead>\n",
       "  <tbody>\n",
       "    <tr>\n",
       "      <th>0</th>\n",
       "      <td>Mallajeet Sonowal</td>\n",
       "      <td>5.0 out of 5 stars\\nFirst experience with IOS ...</td>\n",
       "      <td>I am writing this review after using it for1 m...</td>\n",
       "    </tr>\n",
       "    <tr>\n",
       "      <th>1</th>\n",
       "      <td>Pritam Shetty</td>\n",
       "      <td>5.0 out of 5 stars\\nSmooth Transition to iPhon...</td>\n",
       "      <td>I recently made the switch from Android to the...</td>\n",
       "    </tr>\n",
       "    <tr>\n",
       "      <th>2</th>\n",
       "      <td>Dwarka Chary</td>\n",
       "      <td>4.0 out of 5 stars\\nPlus sized iPhone , not fo...</td>\n",
       "      <td>The phone is a standard iPhone blown up to the...</td>\n",
       "    </tr>\n",
       "    <tr>\n",
       "      <th>3</th>\n",
       "      <td>Gokul</td>\n",
       "      <td>5.0 out of 5 stars\\nIt’s my first iPhone exper...</td>\n",
       "      <td>It’s my first iphone and i see that it has a v...</td>\n",
       "    </tr>\n",
       "    <tr>\n",
       "      <th>4</th>\n",
       "      <td>Kushal Achchha</td>\n",
       "      <td>5.0 out of 5 stars\\nIphone review</td>\n",
       "      <td>Very good quality n safely delivered</td>\n",
       "    </tr>\n",
       "  </tbody>\n",
       "</table>\n",
       "</div>"
      ],
      "text/plain": [
       "              author                                     rating & title  \\\n",
       "0  Mallajeet Sonowal  5.0 out of 5 stars\\nFirst experience with IOS ...   \n",
       "1      Pritam Shetty  5.0 out of 5 stars\\nSmooth Transition to iPhon...   \n",
       "2       Dwarka Chary  4.0 out of 5 stars\\nPlus sized iPhone , not fo...   \n",
       "3              Gokul  5.0 out of 5 stars\\nIt’s my first iPhone exper...   \n",
       "4     Kushal Achchha                  5.0 out of 5 stars\\nIphone review   \n",
       "\n",
       "                                                text  \n",
       "0  I am writing this review after using it for1 m...  \n",
       "1  I recently made the switch from Android to the...  \n",
       "2  The phone is a standard iPhone blown up to the...  \n",
       "3  It’s my first iphone and i see that it has a v...  \n",
       "4               Very good quality n safely delivered  "
      ]
     },
     "execution_count": 7,
     "metadata": {},
     "output_type": "execute_result"
    }
   ],
   "source": [
    "df.head()"
   ]
  },
  {
   "cell_type": "code",
   "execution_count": 8,
   "metadata": {},
   "outputs": [],
   "source": [
    "rating = []\n",
    "title = []\n",
    "for i in df['rating & title'].to_list():\n",
    "    a, b = i.split('\\n')\n",
    "    rating.append(a[:3])\n",
    "    title.append(b)\n",
    "    \n"
   ]
  },
  {
   "cell_type": "code",
   "execution_count": 9,
   "metadata": {},
   "outputs": [],
   "source": [
    "df['title'] = title\n",
    "df['rating'] = rating"
   ]
  },
  {
   "cell_type": "code",
   "execution_count": 10,
   "metadata": {},
   "outputs": [],
   "source": [
    "df.drop(columns=['rating & title'],inplace=True)"
   ]
  },
  {
   "cell_type": "code",
   "execution_count": 11,
   "metadata": {},
   "outputs": [],
   "source": [
    "text = df.pop('text')\n",
    "df['review'] = text"
   ]
  },
  {
   "cell_type": "code",
   "execution_count": 12,
   "metadata": {},
   "outputs": [
    {
     "data": {
      "text/html": [
       "<div>\n",
       "<style scoped>\n",
       "    .dataframe tbody tr th:only-of-type {\n",
       "        vertical-align: middle;\n",
       "    }\n",
       "\n",
       "    .dataframe tbody tr th {\n",
       "        vertical-align: top;\n",
       "    }\n",
       "\n",
       "    .dataframe thead th {\n",
       "        text-align: right;\n",
       "    }\n",
       "</style>\n",
       "<table border=\"1\" class=\"dataframe\">\n",
       "  <thead>\n",
       "    <tr style=\"text-align: right;\">\n",
       "      <th></th>\n",
       "      <th>author</th>\n",
       "      <th>title</th>\n",
       "      <th>rating</th>\n",
       "      <th>review</th>\n",
       "    </tr>\n",
       "  </thead>\n",
       "  <tbody>\n",
       "    <tr>\n",
       "      <th>0</th>\n",
       "      <td>Mallajeet Sonowal</td>\n",
       "      <td>First experience with IOS - its different</td>\n",
       "      <td>5.0</td>\n",
       "      <td>I am writing this review after using it for1 m...</td>\n",
       "    </tr>\n",
       "    <tr>\n",
       "      <th>1</th>\n",
       "      <td>Pritam Shetty</td>\n",
       "      <td>Smooth Transition to iPhone 14 Plus</td>\n",
       "      <td>5.0</td>\n",
       "      <td>I recently made the switch from Android to the...</td>\n",
       "    </tr>\n",
       "    <tr>\n",
       "      <th>2</th>\n",
       "      <td>Dwarka Chary</td>\n",
       "      <td>Plus sized iPhone , not for all</td>\n",
       "      <td>4.0</td>\n",
       "      <td>The phone is a standard iPhone blown up to the...</td>\n",
       "    </tr>\n",
       "    <tr>\n",
       "      <th>3</th>\n",
       "      <td>Gokul</td>\n",
       "      <td>It’s my first iPhone experience</td>\n",
       "      <td>5.0</td>\n",
       "      <td>It’s my first iphone and i see that it has a v...</td>\n",
       "    </tr>\n",
       "    <tr>\n",
       "      <th>4</th>\n",
       "      <td>Kushal Achchha</td>\n",
       "      <td>Iphone review</td>\n",
       "      <td>5.0</td>\n",
       "      <td>Very good quality n safely delivered</td>\n",
       "    </tr>\n",
       "  </tbody>\n",
       "</table>\n",
       "</div>"
      ],
      "text/plain": [
       "              author                                      title rating  \\\n",
       "0  Mallajeet Sonowal  First experience with IOS - its different    5.0   \n",
       "1      Pritam Shetty        Smooth Transition to iPhone 14 Plus    5.0   \n",
       "2       Dwarka Chary            Plus sized iPhone , not for all    4.0   \n",
       "3              Gokul            It’s my first iPhone experience    5.0   \n",
       "4     Kushal Achchha                              Iphone review    5.0   \n",
       "\n",
       "                                              review  \n",
       "0  I am writing this review after using it for1 m...  \n",
       "1  I recently made the switch from Android to the...  \n",
       "2  The phone is a standard iPhone blown up to the...  \n",
       "3  It’s my first iphone and i see that it has a v...  \n",
       "4               Very good quality n safely delivered  "
      ]
     },
     "execution_count": 12,
     "metadata": {},
     "output_type": "execute_result"
    }
   ],
   "source": [
    "df.head()"
   ]
  },
  {
   "cell_type": "code",
   "execution_count": 13,
   "metadata": {},
   "outputs": [],
   "source": [
    "df.to_csv('UpdatedReviewsData.csv', index=False)"
   ]
  },
  {
   "cell_type": "code",
   "execution_count": null,
   "metadata": {},
   "outputs": [],
   "source": []
  }
 ],
 "metadata": {
  "kernelspec": {
   "display_name": "base",
   "language": "python",
   "name": "python3"
  },
  "language_info": {
   "codemirror_mode": {
    "name": "ipython",
    "version": 3
   },
   "file_extension": ".py",
   "mimetype": "text/x-python",
   "name": "python",
   "nbconvert_exporter": "python",
   "pygments_lexer": "ipython3",
   "version": "3.11.5"
  }
 },
 "nbformat": 4,
 "nbformat_minor": 2
}
